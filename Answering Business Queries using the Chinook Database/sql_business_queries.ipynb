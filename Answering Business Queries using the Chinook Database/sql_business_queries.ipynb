{
 "cells": [
  {
   "cell_type": "markdown",
   "metadata": {
    "collapsed": true
   },
   "source": [
    "<h2>Answering business queries using the Chinook Database</h2>\n",
    "<h3>Introduction to database:</h3>\n",
    "<p>The database represents a online music store which includes tables of some fake and some real data for the employees, customers, invoices and the music tracks along with some meta data.</p>\n",
    "<h3>Database Scheme (Visual):</h3>\n",
    "![alt text](schema.png \"Chinook Schema\")\n",
    "<h3>Import Modules:</h3>"
   ]
  },
  {
   "cell_type": "code",
   "execution_count": 1,
   "metadata": {
    "collapsed": true
   },
   "outputs": [],
   "source": [
    "import sqlite3\n",
    "import pandas as pd\n",
    "import matplotlib.pyplot as plt\n",
    "%matplotlib inline"
   ]
  },
  {
   "cell_type": "markdown",
   "metadata": {},
   "source": [
    "<h3>Functions:</h3>"
   ]
  },
  {
   "cell_type": "code",
   "execution_count": 2,
   "metadata": {},
   "outputs": [],
   "source": [
    "# return a dataframe of the queried sql results table\n",
    "def execute_query(query):\n",
    "    with sqlite3.connect('chinook.db') as conn:\n",
    "        return pd.read_sql(query, conn)\n",
    "    \n",
    "# return a sql create view result\n",
    "def execute_command(command):\n",
    "    with sqlite3.connect('chinook.db') as conn:\n",
    "        conn.isolation_level = None # auto commits any changes\n",
    "        conn.execute(command)\n",
    "\n",
    "# return a list of all tables and views in the database\n",
    "def show_tables():\n",
    "    query = '''SELECT name, type \n",
    "               FROM sqlite_master \n",
    "               WHERE type IN (\"table\", \"view\");\n",
    "            '''\n",
    "    result = execute_query(query)\n",
    "    print(result)"
   ]
  },
  {
   "cell_type": "markdown",
   "metadata": {},
   "source": [
    "<h3>Test show_tables() function</h3>\n",
    "It should display all the tables and views that exists in the Chinook Database"
   ]
  },
  {
   "cell_type": "code",
   "execution_count": 3,
   "metadata": {},
   "outputs": [
    {
     "name": "stdout",
     "output_type": "stream",
     "text": [
      "                  name   type\n",
      "0                album  table\n",
      "1               artist  table\n",
      "2             customer  table\n",
      "3             employee  table\n",
      "4                genre  table\n",
      "5              invoice  table\n",
      "6         invoice_line  table\n",
      "7           media_type  table\n",
      "8             playlist  table\n",
      "9       playlist_track  table\n",
      "10               track  table\n",
      "11  one_sale_countries   view\n",
      "12     other_countries   view\n",
      "13        usa_invoices   view\n",
      "14     usa_genres_sold   view\n",
      "15         other_group   view\n"
     ]
    }
   ],
   "source": [
    "show_tables()"
   ]
  },
  {
   "cell_type": "markdown",
   "metadata": {},
   "source": [
    "<h3>Questions:</h3>\n",
    "<p>The following are the DataQuest questions that we have to answer.</p>\n",
    "<h4>Question 1)</h4>\n",
    "<p>The Chinook record store has just signed a deal with a new record label, and you've been tasked with selecting the first three albums that will be added to the store, from a list of four.  All four albums are by artists that don't have any tracks in the store right now - we have the artist names, and the genre of music they produce:</p>\n",
    "<table>\n",
    "<thead>\n",
    "<tr>\n",
    "<th>Artist Name</th>\n",
    "<th>Genre</th>\n",
    "</tr>\n",
    "</thead>\n",
    "<tbody>\n",
    "<tr>\n",
    "<td>Regal</td>\n",
    "<td>Hip-Hop</td>\n",
    "</tr>\n",
    "<tr>\n",
    "<td>Red Tone</td>\n",
    "<td>Punk</td>\n",
    "</tr>\n",
    "<tr>\n",
    "<td>Meteor and the Girls</td>\n",
    "<td>Pop</td>\n",
    "</tr>\n",
    "<tr>\n",
    "<td>Slim Jim Bites</td>\n",
    "<td>Blues</td>\n",
    "</tr>\n",
    "</tbody>\n",
    "</table>\n",
    "<p>The record label specializes in artists from the USA, and they have given Chinook some money to advertise the new albums in the USA, so we're interested in finding out which genres sell the best in the USA.</p>\n",
    "<p>You'll need to write a query to find out which genres sell the most tracks in the USA, and then create a visualization of that data using pandas.</p>"
   ]
  },
  {
   "cell_type": "code",
   "execution_count": 4,
   "metadata": {},
   "outputs": [
    {
     "name": "stdout",
     "output_type": "stream",
     "text": [
      "Current Tables and Views:\n",
      "                  name   type\n",
      "0                album  table\n",
      "1               artist  table\n",
      "2             customer  table\n",
      "3             employee  table\n",
      "4                genre  table\n",
      "5              invoice  table\n",
      "6         invoice_line  table\n",
      "7           media_type  table\n",
      "8             playlist  table\n",
      "9       playlist_track  table\n",
      "10               track  table\n",
      "11  one_sale_countries   view\n",
      "12     other_countries   view\n",
      "13     usa_genres_sold   view\n",
      "14         other_group   view\n",
      "15        usa_invoices   view\n"
     ]
    }
   ],
   "source": [
    "# drop the view if it exists (if retrying)\n",
    "command = \"DROP VIEW IF EXISTS usa_invoices;\"\n",
    "result = execute_command(command)\n",
    "\n",
    "# set up view to return all invoices related to the usa\n",
    "query = '''\n",
    "        CREATE VIEW usa_invoices AS\n",
    "            SELECT b.track_id   \n",
    "            FROM invoice as a, invoice_line as b\n",
    "            WHERE a.invoice_id = b.invoice_id AND a.billing_country = 'USA';\n",
    "        '''\n",
    "result = execute_command(query)\n",
    "print(\"Current Tables and Views:\")\n",
    "show_tables()"
   ]
  },
  {
   "cell_type": "code",
   "execution_count": 5,
   "metadata": {},
   "outputs": [
    {
     "name": "stdout",
     "output_type": "stream",
     "text": [
      "Current Tables and Views:\n",
      "                  name   type\n",
      "0                album  table\n",
      "1               artist  table\n",
      "2             customer  table\n",
      "3             employee  table\n",
      "4                genre  table\n",
      "5              invoice  table\n",
      "6         invoice_line  table\n",
      "7           media_type  table\n",
      "8             playlist  table\n",
      "9       playlist_track  table\n",
      "10               track  table\n",
      "11  one_sale_countries   view\n",
      "12     other_countries   view\n",
      "13         other_group   view\n",
      "14        usa_invoices   view\n",
      "15     usa_genres_sold   view\n"
     ]
    }
   ],
   "source": [
    "# drop the view if it exists (if retrying)\n",
    "command = \"DROP VIEW IF EXISTS usa_genres_sold;\"\n",
    "result = execute_command(command)\n",
    "\n",
    "# use the previous result table to get all the genere ids of each track\n",
    "# and fetch the genre name\n",
    "query = '''\n",
    "        CREATE VIEW usa_genres_sold AS\n",
    "            SELECT c.name\n",
    "            FROM usa_invoices as a, track as b, genre as c\n",
    "            WHERE a.track_id = b.track_id AND b.genre_id = c.genre_id;\n",
    "        '''\n",
    "result = execute_command(query)\n",
    "print(\"Current Tables and Views:\")\n",
    "show_tables()"
   ]
  },
  {
   "cell_type": "code",
   "execution_count": 6,
   "metadata": {},
   "outputs": [
    {
     "name": "stdout",
     "output_type": "stream",
     "text": [
      "                 genre  tracks_sold  percentage_sold\n",
      "0                 Rock          561             0.53\n",
      "1   Alternative & Punk          130             0.12\n",
      "2                Metal          124             0.12\n",
      "3             R&B/Soul           53             0.05\n",
      "4                Blues           36             0.03\n",
      "5          Alternative           35             0.03\n",
      "6                Latin           22             0.02\n",
      "7                  Pop           22             0.02\n",
      "8          Hip Hop/Rap           20             0.02\n",
      "9                 Jazz           14             0.01\n",
      "10      Easy Listening           13             0.01\n",
      "11              Reggae            6             0.01\n",
      "12   Electronica/Dance            5             0.00\n",
      "13           Classical            4             0.00\n",
      "14         Heavy Metal            3             0.00\n",
      "15          Soundtrack            2             0.00\n",
      "16            TV Shows            1             0.00\n"
     ]
    }
   ],
   "source": [
    "# get the aggregate of the number of tracks sold in the USA\n",
    "# and as a per percentage of all the genres\n",
    "query = '''\n",
    "        SELECT name as genre, count(name) as tracks_sold, \n",
    "               ROUND(CAST(count(name) AS FLOAT)/\n",
    "               CAST((SELECT count(name) FROM usa_genres_sold) AS FLOAT), 2)\n",
    "               as percentage_sold\n",
    "        FROM usa_genres_sold \n",
    "        GROUP BY name\n",
    "        ORDER BY tracks_sold DESC;\n",
    "        '''\n",
    "result = execute_query(query)\n",
    "print(result)"
   ]
  },
  {
   "cell_type": "markdown",
   "metadata": {},
   "source": [
    "<b>Comment:</b> Here, we see that the most popular genres, say top 3, are Rock with 561 tracks sold in the USA followed by Alternative & Punk with 130 sold followed by 124 tracks sold in the Metal genre. Also, we see that Rock has been the main contributor of the genres sold in the USA accounting for 53% of the total USA track sales. This gives a rough idea on what the USA population likes to listen to and purchase from this store. So, it maybe wise to load up on more Rock music artists to increase sales in this music store business.\n",
    "\n",
    "<h4>Question 2)</h4>\n",
    "<p>Each customer for the Chinook store gets assigned to a sales support agent within the company when they first make a purchase. You have been asked to analyze the purchases of customers belonging to each employee to see if any sales support agent is performing either better or worse than the others.\n",
    "\n",
    "You might like to consider whether any extra columns from the employee table explain any variance you see, or whether the variance might instead be indicative of employee performance.</p>"
   ]
  },
  {
   "cell_type": "code",
   "execution_count": 7,
   "metadata": {},
   "outputs": [
    {
     "name": "stdout",
     "output_type": "stream",
     "text": [
      "   employee_id first_name last_name    sales\n",
      "0            3       Jane   Peacock  1731.51\n",
      "1            4   Margaret      Park  1584.00\n",
      "2            5      Steve   Johnson  1393.92\n"
     ]
    }
   ],
   "source": [
    "# Setup: Connect employee.employee_id with customer.support_red_id to connect\n",
    "#        the customer with the employee that served them. \n",
    "#        Then get the invoice for the customer by connecting customer.customer_id\n",
    "#        with the invoice.customer_id to connect the invoice with the customer\n",
    "#        and then get the total from the invoice table and join it all up as shown.\n",
    "query = '''\n",
    "        SELECT a.employee_id, a.first_name, a.last_name, sum(c.total) as sales\n",
    "        FROM employee as a, customer as b, invoice as c\n",
    "        WHERE a.employee_id = b.support_rep_id AND\n",
    "              b.customer_id = c.customer_id\n",
    "        GROUP BY a.employee_id, a.first_name, a.last_name\n",
    "        ORDER BY sales DESC;\n",
    "        '''\n",
    "print(execute_query(query))"
   ]
  },
  {
   "cell_type": "markdown",
   "metadata": {},
   "source": [
    "<b>Comment:</b> So, we see that the employee with the most sales is Jane Peacock with \\$1731.51 followed by Margaret Park with \\$1584 music sales and lastly we have Steve Johnson with \\$1393.92. Thus, Jane Peacock is the best performing employee based on the amount of sales along. "
   ]
  },
  {
   "cell_type": "markdown",
   "metadata": {},
   "source": [
    "<h4>Question 3)</h4>\n",
    "<p>Your next task is to analyze the sales data for customers from each different country.  You have been given guidance to use the country value from the <code>customers</code> table, and ignore the country from the billing address in the <code>invoice</code> table.</p>\n",
    "<p>In particular, you have been directed to calculate data, for each country, on the:</p>\n",
    "<ul>\n",
    "<li>total number of customers</li>\n",
    "<li>total value of sales</li>\n",
    "<li>average value of sales per customer</li>\n",
    "</ul>\n",
    "<p>Because there are a number of countries with only one customer, you should group these customers as \"Other\" in your analysis."
   ]
  },
  {
   "cell_type": "code",
   "execution_count": 20,
   "metadata": {},
   "outputs": [
    {
     "name": "stdout",
     "output_type": "stream",
     "text": [
      "Countries with 1 customer:\n",
      "        country  ncustomers\n",
      "0     Argentina           1\n",
      "1     Australia           1\n",
      "2       Austria           1\n",
      "3       Belgium           1\n",
      "4         Chile           1\n",
      "5       Denmark           1\n",
      "6       Finland           1\n",
      "7       Hungary           1\n",
      "8       Ireland           1\n",
      "9         Italy           1\n",
      "10  Netherlands           1\n",
      "11       Norway           1\n",
      "12       Poland           1\n",
      "13        Spain           1\n",
      "14       Sweden           1\n"
     ]
    }
   ],
   "source": [
    "# drop the view if it exists\n",
    "command = \"DROP VIEW IF EXISTS other_group;\"\n",
    "result = execute_command(command)\n",
    "\n",
    "# first create a view that gets all countries with 1 customer and consider them\n",
    "# all under the group 'Other'\n",
    "command = '''\n",
    "          CREATE VIEW other_group AS\n",
    "              SELECT * \n",
    "              FROM (SELECT country, count(country) as ncustomers \n",
    "                    FROM (SELECT first_name, last_name, country\n",
    "                          FROM customer\n",
    "                          ORDER BY country)\n",
    "                    GROUP BY country)\n",
    "              WHERE ncustomers = 1;\n",
    "          '''\n",
    "result = execute_command(command)\n",
    "\n",
    "print(\"Countries with 1 customer:\")\n",
    "print(execute_query(\"SELECT * FROM other_group\"))"
   ]
  },
  {
   "cell_type": "code",
   "execution_count": 47,
   "metadata": {},
   "outputs": [],
   "source": [
    "# drop the view if it exists\n",
    "command = \"DROP VIEW IF EXISTS other_sales;\"\n",
    "result = execute_command(command)\n",
    "\n",
    "# secondly get the sales of the 'Other' group\n",
    "command = '''\n",
    "          CREATE VIEW other_sales AS\n",
    "              SELECT sum(a.ncustomers) as total_customers, sum(c.total) as sales,\n",
    "                     ROUND(CAST(sum(c.total) AS FLOAT)/CAST(sum(a.ncustomers) AS FLOAT), 2) \n",
    "                         AS average_sale_per_customer\n",
    "              FROM other_group as a, customer as b, invoice as c\n",
    "              WHERE a.country = b.country AND b.customer_id = c.customer_id;\n",
    "          '''\n",
    "result = execute_command(command)\n",
    "\n",
    "# get the other group results\n",
    "other_group = execute_query(\"SELECT * FROM other_sales\")\n",
    "other_group.insert(0, \"country\", \"Other\")"
   ]
  },
  {
   "cell_type": "code",
   "execution_count": 50,
   "metadata": {},
   "outputs": [
    {
     "name": "stdout",
     "output_type": "stream",
     "text": [
      "Music Sales ($) per country:\n",
      "           country  total_customers    sales  average_sale_per_customer\n",
      "0          Brazil               61   427.68                       7.01\n",
      "1          Canada               76   535.59                       7.05\n",
      "2  Czech Republic               30   273.24                       9.11\n",
      "3          France               50   389.07                       7.78\n",
      "4         Germany               41   334.62                       8.16\n",
      "5           India               21   183.15                       8.72\n",
      "6        Portugal               29   185.13                       6.38\n",
      "7             USA              131  1040.49                       7.94\n",
      "8  United Kingdom               28   245.52                       8.77\n",
      "0           Other              147  1094.94                       7.45\n"
     ]
    }
   ],
   "source": [
    "# drop the view if it exists\n",
    "command = \"DROP VIEW IF EXISTS main_sale;\"\n",
    "result = execute_command(command)\n",
    "\n",
    "# thirdly get the total sales by each country along with the 'Other' group sales\n",
    "command = '''\n",
    "        CREATE VIEW main_sale AS\n",
    "            SELECT a.country, count(a.country)as total_customers,\n",
    "                   sum(b.total) as sales, \n",
    "                   ROUND((CAST(sum(b.total) AS FLOAT)/CAST(count(a.country) \n",
    "                       AS FLOAT)), 2) as average_sale_per_customer\n",
    "            FROM customer as a, invoice as b\n",
    "            WHERE country NOT IN (SELECT country FROM other_group) AND\n",
    "                  a.customer_id = b.customer_id\n",
    "            GROUP BY country\n",
    "            ORDER BY country;\n",
    "        '''\n",
    "result = execute_command(command)\n",
    "\n",
    "# aggregate the sales for each country and total customers and average sales per customer\n",
    "df = execute_query(\"SELECT * FROM main_sale\")\n",
    "\n",
    "# append the other group to the main dataframe\n",
    "df = df.append(other_group)\n",
    "\n",
    "print(\"Music Sales ($) per country:\\n\", df)"
   ]
  },
  {
   "cell_type": "markdown",
   "metadata": {},
   "source": [
    "<b>Comment:</b> Here, it is clear that the highest sales total and customer count is from the \"Other\" group. The countries in the \"Other\" group are Argentina, Australia, Austria, Belgium, Chile, Denmark, Finland, Hungary,        Ireland, Italy, Netherlands, Norway, Poland, Spain and Sweden who all only have 1 customer each in the database. However, since they are all grouped up because of their small sample size we can not conclude that selling to all these countries increases profit. Although, we can conclude that USA as the next best in terms of the amount of customers and total sales. But, the highest country with the best average sale amount per customer belongs to Czech Republic with $9.11."
   ]
  }
 ],
 "metadata": {
  "kernelspec": {
   "display_name": "Python 3",
   "language": "python",
   "name": "python3"
  },
  "language_info": {
   "codemirror_mode": {
    "name": "ipython",
    "version": 3
   },
   "file_extension": ".py",
   "mimetype": "text/x-python",
   "name": "python",
   "nbconvert_exporter": "python",
   "pygments_lexer": "ipython3",
   "version": "3.6.5"
  }
 },
 "nbformat": 4,
 "nbformat_minor": 2
}
